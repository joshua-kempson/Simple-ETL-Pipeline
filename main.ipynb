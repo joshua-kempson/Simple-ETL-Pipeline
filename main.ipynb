{
 "cells": [
  {
   "cell_type": "code",
   "execution_count": 4,
   "id": "6e08ca2b",
   "metadata": {},
   "outputs": [],
   "source": [
    "import pandas as pd\n",
    "import kagglehub"
   ]
  },
  {
   "cell_type": "code",
   "execution_count": 7,
   "id": "08b40b32",
   "metadata": {},
   "outputs": [],
   "source": [
    "path = kagglehub.dataset_download(\"ahmedmohamed2003/cafe-sales-dirty-data-for-cleaning-training\")\n",
    "org_data = pd.read_csv('/home/joshua/.cache/kagglehub/datasets/ahmedmohamed2003/cafe-sales-dirty-data-for-cleaning-training/versions/1/dirty_cafe_sales.csv')"
   ]
  },
  {
   "cell_type": "code",
   "execution_count": 135,
   "id": "04e195d2",
   "metadata": {},
   "outputs": [],
   "source": [
    "clean_data = org_data.drop_duplicates()"
   ]
  },
  {
   "cell_type": "code",
   "execution_count": 144,
   "id": "43506442",
   "metadata": {},
   "outputs": [
    {
     "data": {
      "text/html": [
       "<div>\n",
       "<style scoped>\n",
       "    .dataframe tbody tr th:only-of-type {\n",
       "        vertical-align: middle;\n",
       "    }\n",
       "\n",
       "    .dataframe tbody tr th {\n",
       "        vertical-align: top;\n",
       "    }\n",
       "\n",
       "    .dataframe thead th {\n",
       "        text-align: right;\n",
       "    }\n",
       "</style>\n",
       "<table border=\"1\" class=\"dataframe\">\n",
       "  <thead>\n",
       "    <tr style=\"text-align: right;\">\n",
       "      <th></th>\n",
       "      <th>Transaction ID</th>\n",
       "      <th>Item</th>\n",
       "      <th>Quantity</th>\n",
       "      <th>Price Per Unit</th>\n",
       "      <th>Total Spent</th>\n",
       "      <th>Payment Method</th>\n",
       "      <th>Location</th>\n",
       "      <th>Transaction Date</th>\n",
       "    </tr>\n",
       "  </thead>\n",
       "  <tbody>\n",
       "    <tr>\n",
       "      <th>0</th>\n",
       "      <td>TXN_1961373</td>\n",
       "      <td>Coffee</td>\n",
       "      <td>2.0</td>\n",
       "      <td>2.0</td>\n",
       "      <td>4.0</td>\n",
       "      <td>Credit Card</td>\n",
       "      <td>Takeaway</td>\n",
       "      <td>2023-09-08</td>\n",
       "    </tr>\n",
       "    <tr>\n",
       "      <th>1</th>\n",
       "      <td>TXN_4977031</td>\n",
       "      <td>Cake</td>\n",
       "      <td>4.0</td>\n",
       "      <td>3.0</td>\n",
       "      <td>12.0</td>\n",
       "      <td>Cash</td>\n",
       "      <td>In-store</td>\n",
       "      <td>2023-05-16</td>\n",
       "    </tr>\n",
       "    <tr>\n",
       "      <th>2</th>\n",
       "      <td>TXN_4271903</td>\n",
       "      <td>Cookie</td>\n",
       "      <td>4.0</td>\n",
       "      <td>1.0</td>\n",
       "      <td>4.0</td>\n",
       "      <td>Credit Card</td>\n",
       "      <td>In-store</td>\n",
       "      <td>2023-07-19</td>\n",
       "    </tr>\n",
       "    <tr>\n",
       "      <th>3</th>\n",
       "      <td>TXN_7034554</td>\n",
       "      <td>Salad</td>\n",
       "      <td>2.0</td>\n",
       "      <td>5.0</td>\n",
       "      <td>10.0</td>\n",
       "      <td>UNKNOWN</td>\n",
       "      <td>UNKNOWN</td>\n",
       "      <td>2023-04-27</td>\n",
       "    </tr>\n",
       "    <tr>\n",
       "      <th>4</th>\n",
       "      <td>TXN_3160411</td>\n",
       "      <td>Coffee</td>\n",
       "      <td>2.0</td>\n",
       "      <td>2.0</td>\n",
       "      <td>4.0</td>\n",
       "      <td>Digital Wallet</td>\n",
       "      <td>In-store</td>\n",
       "      <td>2023-06-11</td>\n",
       "    </tr>\n",
       "  </tbody>\n",
       "</table>\n",
       "</div>"
      ],
      "text/plain": [
       "  Transaction ID    Item  Quantity  Price Per Unit  Total Spent  \\\n",
       "0    TXN_1961373  Coffee       2.0             2.0          4.0   \n",
       "1    TXN_4977031    Cake       4.0             3.0         12.0   \n",
       "2    TXN_4271903  Cookie       4.0             1.0          4.0   \n",
       "3    TXN_7034554   Salad       2.0             5.0         10.0   \n",
       "4    TXN_3160411  Coffee       2.0             2.0          4.0   \n",
       "\n",
       "   Payment Method  Location Transaction Date  \n",
       "0     Credit Card  Takeaway       2023-09-08  \n",
       "1            Cash  In-store       2023-05-16  \n",
       "2     Credit Card  In-store       2023-07-19  \n",
       "3         UNKNOWN   UNKNOWN       2023-04-27  \n",
       "4  Digital Wallet  In-store       2023-06-11  "
      ]
     },
     "execution_count": 144,
     "metadata": {},
     "output_type": "execute_result"
    }
   ],
   "source": [
    "clean_data.head()"
   ]
  },
  {
   "cell_type": "code",
   "execution_count": 136,
   "id": "c2cc1a5c",
   "metadata": {},
   "outputs": [],
   "source": [
    "clean_data['Quantity'] = pd.to_numeric(clean_data['Quantity'], errors='coerce')\n",
    "clean_data['Price Per Unit'] = pd.to_numeric(clean_data['Price Per Unit'], errors='coerce')\n",
    "clean_data['Total Spent'] = pd.to_numeric(clean_data['Total Spent'], errors='coerce')"
   ]
  },
  {
   "cell_type": "code",
   "execution_count": 139,
   "id": "a6967fa9",
   "metadata": {},
   "outputs": [],
   "source": [
    "for index, row in clean_data.iterrows(): \n",
    "    quantity = row['Quantity']\n",
    "    price_per_unit = row['Price Per Unit']\n",
    "    total_spent = row['Total Spent']\n",
    "\n",
    "    if pd.isna(quantity) and pd.notna(price_per_unit) and pd.notna(total_spent): \n",
    "        clean_data.at[index, 'Quantity'] = total_spent / price_per_unit\n",
    "    elif pd.isna(price_per_unit) and pd.notna(quantity) and pd.notna(total_spent): \n",
    "        clean_data.at[index, 'Price Per Unit'] = total_spent / quantity\n",
    "    elif pd.isna(total_spent) and pd.notna(quantity) and pd.notna(price_per_unit): \n",
    "        clean_data.at[index, 'Total Spent'] = quantity * price_per_unit\n",
    "\n",
    "clean_data['Quantity'] = clean_data['Quantity'].fillna(0)\n",
    "clean_data['Price Per Unit'] = clean_data['Price Per Unit'].fillna(0)\n",
    "clean_data['Total Spent'] = clean_data['Total Spent'].fillna(0)"
   ]
  },
  {
   "cell_type": "code",
   "execution_count": 138,
   "id": "2119ebe6",
   "metadata": {},
   "outputs": [],
   "source": [
    "clean_data.loc[clean_data['Price Per Unit']==1.5, 'Item'] = 'Tea'\n",
    "clean_data.loc[clean_data['Price Per Unit']==2, 'Item'] = 'Coffee'\n",
    "clean_data.loc[clean_data['Price Per Unit']==1, 'Item'] = 'Cookie'\n",
    "clean_data.loc[clean_data['Price Per Unit']==5, 'Item'] = 'Salad'\n",
    "\n",
    "clean_data.loc[clean_data['Item']=='Tea', 'Price Per Unit'] = 1.5\n",
    "clean_data.loc[clean_data['Item']=='Coffee', 'Price Per Unit'] = 2\n",
    "clean_data.loc[clean_data['Item']=='Cookie', 'Price Per Unit'] = 1\n",
    "clean_data.loc[clean_data['Item']=='Salad', 'Price Per Unit'] = 5"
   ]
  },
  {
   "cell_type": "code",
   "execution_count": null,
   "id": "2e2b03b2",
   "metadata": {},
   "outputs": [],
   "source": [
    "clean_data['Item'].replace(['UNKNOWN', 'ERROR'], pd.NA, inplace=True)"
   ]
  },
  {
   "cell_type": "code",
   "execution_count": 143,
   "id": "fc3a5375",
   "metadata": {},
   "outputs": [
    {
     "name": "stdout",
     "output_type": "stream",
     "text": [
      "Original Item NA :969\n",
      "Clean Item NA :176\n"
     ]
    }
   ],
   "source": [
    "o1 = (org_data['Item'] == 'UNKNOWN').sum()\n",
    "o2 = (org_data['Item'] == 'ERROR').sum()\n",
    "o3 = org_data['Item'].isna().sum()\n",
    "\n",
    "c1 = clean_data['Item'].isna().sum()\n",
    "\n",
    "print(f\"Original Item NA :{(o1+o2+o3)}\")\n",
    "print(f\"Clean Item NA :{c1}\")"
   ]
  }
 ],
 "metadata": {
  "kernelspec": {
   "display_name": ".venv",
   "language": "python",
   "name": "python3"
  },
  "language_info": {
   "codemirror_mode": {
    "name": "ipython",
    "version": 3
   },
   "file_extension": ".py",
   "mimetype": "text/x-python",
   "name": "python",
   "nbconvert_exporter": "python",
   "pygments_lexer": "ipython3",
   "version": "3.13.7"
  }
 },
 "nbformat": 4,
 "nbformat_minor": 5
}
